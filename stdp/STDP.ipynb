{
 "cells": [
  {
   "cell_type": "code",
   "execution_count": 2,
   "metadata": {},
   "outputs": [],
   "source": [
    "import torch \n",
    "import matplotlib.pyplot as plt\n",
    "%matplotlib inline\n",
    "import numpy as np"
   ]
  },
  {
   "cell_type": "markdown",
   "metadata": {},
   "source": [
    "\n",
    "## Modelo según Morrison et al 2007\n",
    "\n",
    "El modelo plantea STDP en sinapsis excitatorias. Puede llegar a aplicarse a las sinapsis entre neuronas piramidales y espinosas estriatales. \n",
    "\n",
    "El modelo es Hebbiano con las siguientes ecuaciones:\n",
    "\n",
    "$\\Delta w_+ = \\lambda_{60} w_{0} ^{1-\\mu}~w^\\mu \\exp^{-\\frac{|\\Delta t|}{\\tau}} ~~~ \\Delta t > 0 $\n",
    "\n",
    "$\\Delta w_- = - \\lambda_{60} \\alpha ~ w \\exp^{-\\frac{|\\Delta t|}{\\tau}} ~~~ \\Delta t < 0$\n",
    "\n",
    "donde $\\tau$ es la constante de tiempo, $\\lambda_{60}$ el la velocidad de aprendizaje (learning rate) sobre todo el protocolo, $w_0$ es un peso de referencia, que perfectamente puede ser $w_0 = 1 [pA]$ y $\\alpha$ escala el peso de LTD en el aprendizaje. $\\mu$ es una constante de la proporcionalidad $\\Delta w \\propto w^\\mu$ y tiene un valor $\\mu = 0.4$\n",
    "\n",
    "Hice un modificación a $\\alpha$ para obtener una atenuación $\\Delta w = 40 \\% $ para un $ \\Delta t = -6.3 ms$. `Nota: esto me parece que está mal y debería revisarlo` \n",
    "\n",
    "El paper plantea $\\alpha = 0.11$, yo lo puse en $\\alpha = 5.478$.\n",
    "\n",
    "\n",
    "def deltaw_Morr(deltat,w):\n",
    "    # constantes\n",
    "    mu = 0.4\n",
    "    tau = 20.0  # ms\n",
    "    w0 = 1.0  # pA\n",
    "    lamb = 0.1\n",
    "    alpha = 5.478 # originalmente estaba en 0.11, pero no daba con una reducción de 40% a -6.3msg\n",
    "    \n",
    "    out = torch.zeros(len(deltat))\n",
    "    aux = torch.exp(-torch.abs(deltat)/tau)\n",
    "    out = lamb * (w0 ** (1 - mu)) * (w ** mu) * aux * ((deltat > 0)*1.0)\n",
    "    out -= lamb * alpha * w * aux * ((deltat < 0) * 1.0)\n",
    "    return out\n",
    "    "
   ]
  },
  {
   "cell_type": "code",
   "execution_count": 5,
   "metadata": {},
   "outputs": [
    {
     "data": {
      "text/plain": [
       "tensor([-0.3998])"
      ]
     },
     "execution_count": 5,
     "metadata": {},
     "output_type": "execute_result"
    }
   ],
   "source": [
    "deltaw(torch.tensor([-6.3]), torch.tensor([1]))"
   ]
  },
  {
   "cell_type": "code",
   "execution_count": 7,
   "metadata": {},
   "outputs": [
    {
     "data": {
      "image/png": "[encoded data removed]",
      "text/plain": [
       "<Figure size 432x288 with 1 Axes>"
      ]
     },
     "metadata": {
      "needs_background": "light"
     },
     "output_type": "display_data"
    }
   ],
   "source": [
    "# defino un vector de pesos\n",
    "w = torch.ones(100) * 1\n",
    "\n",
    "# defino vector de tiempos\n",
    "extremo = 60 #mseg\n",
    "dt = (torch.tensor(range(len(w))) - len(w)/2)/(len(w/2)) * extremo\n",
    "\n",
    "out = deltaw_Morr(dt,w)\n",
    "\n",
    "plt.plot(dt.numpy(), out.numpy())\n",
    "plt.show()\n"
   ]
  },
  {
   "cell_type": "markdown",
   "metadata": {},
   "source": [
    "# Modelo STDP correspondiente al Estriado\n",
    "\n",
    "## Sinapsis cortico estriatal\n",
    "\n",
    "Fino et all 2005 estudiaron la interacción entre neuronas del layer V de la corteza somatosensorial y las neuronas espinosas estriatales (via directa me parece, pero en este paper no importaria). En este paper no consideran un tercer factor, es decir neurotransmisores que modulan el aprendizaje, como la dopamina y acetilcolina. Determinan que estimulación con pulsos de alta frecuencia (HFS) imponen procesos LTP, principalmente por mecanismos pre-sinapticos. Por otro lado, la estimulación en baja frecuencia (LFS) produce LTD a partir de procesos postsinápticos. \n",
    "\n",
    "### Reversed STDP\n",
    "\n",
    "En otro experimento evocan un potencial de acción (AP) en la neurona estriatal, y aplican un corriente depolarizante supraumbral en la neurona cortical, se plantean dos situaciones:\n",
    "- **pre-post**: la corriente depolarizante se aplica previo al potencial de acción. Esta situación plantea la situación donde la actividad pre-sinaptica evoca un AP en la post-sinapsis.\n",
    "- **post-pre**: en este caso, la actividad post sinaptica, es decir el AP, ocurre primero. Busca simular el caso donde la actividad pre-sinaptica no está participando en la generación del AP post sináptico. \n",
    "\n",
    "La siguiente figura muestra los resultados de este experimento.\n",
    "<img src=\"img/fino_2005.png\" alt=\"drawing\" width=\"500\"/> \n",
    "\n",
    "Es interesante notar que el STPD está invertido. Es decir, la actividad **pre-post** plantea un aprendizaje **LTD**, mientras que **post-pre** plantea un aprendizaje **LTP**. \n",
    "\n",
    "Este descubrimiento fue muy interesante, por una parte porque encuentra un modelo STDP anti-Hebbiano en una estructura importante como es el estriado. Pero también plantea una estructura donde la información que no evoca un AP es relevante para la estructura. Esto puede significar que el estriado ¨busca¨ relacionar información temporal, ya que esa información presinaptica, que no activa la neurona, lo hará en un futuro, ya que se potencia mediante LTP, y todo en una ventana de $\\pm 30 mseg$.\n",
    "\n",
    "Este paper no considera terceros factores.\n",
    "\n",
    "### Aproximación a un modelo de STDP para neuronas estriatales.\n",
    "\n",
    "Se va a partir de los datos medidos por Fino et al 2005 (figura superior), los cuales se transcriben en el siguiente vector:        \n",
    "\n",
    "\n",
    "\n"
   ]
  },
  {
   "cell_type": "code",
   "execution_count": 3,
   "metadata": {},
   "outputs": [],
   "source": [
    "from scipy.stats import norm\n",
    "from itertools import product"
   ]
  },
  {
   "cell_type": "code",
   "execution_count": 4,
   "metadata": {},
   "outputs": [],
   "source": [
    "def fgauss(x,loc=0,scale=1):\n",
    "    # Son las funciones de la base del espacio del estimador.\n",
    "    # scale es equivalente a varianza\n",
    "    funcion = norm(loc=loc, scale=scale)\n",
    "    return funcion.pdf(x)\n",
    "\n",
    "def f_detalle(x, parameters, flag=None ):\n",
    "    w = parameters[0]\n",
    "    media = parameters[1]\n",
    "    loc_vect = parameters[2]\n",
    "    sigma = parameters[3]\n",
    "    out = np.zeros(x.shape)\n",
    "    if flag==None:\n",
    "        for i in range(len(w)):\n",
    "            out = w[i] * fgauss(x,loc=loc_vect[i], scale=sigma ** 2) + out\n",
    "        return out + 1\n",
    "    else:\n",
    "        out = w[flag] * fgauss(x,loc=loc_vect[flag][0], scale=sigma ** 2) \n",
    "        return out + 1\n",
    "\n",
    "def estimador(x,y,M, alpha):\n",
    "    max_t = max(x)\n",
    "    min_t = min(x)\n",
    "    sigma = (max_t - min_t)/M/alpha # SD de las gaussianas => solapa con el 31.8% del área a las otras.\n",
    "    loc_vect = np.asarray([i * (max_t-min_t)/M + (min_t + (max_t-min_t)/2/M) for i in range(M)])\n",
    "    media = np.mean(y)\n",
    "    y = y - media\n",
    "    Q = np.zeros((len(x),M))\n",
    "    Q = np.zeros((len(x),M))\n",
    "    for i in range(M):\n",
    "        Q[:,i] = fgauss(x,loc=loc_vect[i], scale=sigma ** 2)[:,0]\n",
    "        \n",
    "    Q_pinv = np.linalg.pinv(Q)\n",
    "    w = np.matmul(Q_pinv, y)\n",
    "    # Calculo de metrica de AKAIKE\n",
    "    y_est = f_detalle(x, (w, media, loc_vect, sigma))\n",
    "    aic = 2*M + len(x)* np.log(2*np.pi*sigma**2)+1/(sigma ** 2) * (np.linalg.norm(y-y_est)**2)\n",
    "    return (w, media, loc_vect, sigma, aic)\n",
    "\n"
   ]
  },
  {
   "cell_type": "code",
   "execution_count": 27,
   "metadata": {},
   "outputs": [],
   "source": [
    "# Se considera la gráfica anterior (Fino et al 2005)\n",
    "\n",
    "# voy a modificar el  correspondiente a y_stdp(delta_t = -35.8)= 88.4 para que el ajuste se aproxime \n",
    "# mas a 1. Si no hago esto, en torno a -30mseg hay LTD, y es algo que no se condice con otros resultados\n",
    "# observados en la literatura.\n",
    "\n",
    "delta_t = np.asarray([-40, -40, -40, -36, -35, -35, -34, -35.8, -30, -30, -22.96, -22.13, -19.89, -18.96, -12.78, -11.79, -7.95,\n",
    "          -19.9, -14.96, -9.09, -7.01, 0, 0, 0, 0,  4.94, 12.94, 14.96, 17.04, 18.96,\n",
    "          18.96, 20.05, 23.89, 24.99, 27.90, 30, 30, 30.91, 36.94])\n",
    "y_stdp = np.asarray([100, 100, 100, 100, 100, 100, 100, 100, 100, 100, 139.2, 104.61, 98.8, 115.76, 108.85, 92.69, 118.08,\n",
    "         253.08, 251.15, 200.38, 246.15, 100, 100, 100, 100, 115, 76.15, 25.38, 26.54, 56.92,\n",
    "         76.92, 95.38, 74.84, 47.30, 74.61, 100, 100, 116.92, 104.6])\n",
    "\n",
    "y_stdp = y_stdp/100\n",
    "delta_t = delta_t.reshape(len(delta_t),1)\n",
    "y_stdp = y_stdp.reshape(len(y_stdp),1)\n"
   ]
  },
  {
   "cell_type": "code",
   "execution_count": 37,
   "metadata": {},
   "outputs": [
    {
     "data": {
      "text/plain": [
       "array([[  9.        ,   8.        , 116.15307559]])"
      ]
     },
     "execution_count": 37,
     "metadata": {},
     "output_type": "execute_result"
    }
   ],
   "source": [
    "MM_range = range(3,11)\n",
    "aa_range = range(3,9)\n",
    "resultado = []\n",
    "for k in product(MM_range,aa_range):\n",
    "    aux = [k[0], k[1], estimador(delta_t, y_stdp, M=k[0], alpha = k[1])[4][0] ]\n",
    "    resultado.append(aux)\n",
    "resultado = np.asarray(resultado)\n",
    "# minimo akaike\n",
    "resultado[resultado[:,2]==min(resultado[:,2]),:]"
   ]
  },
  {
   "cell_type": "code",
   "execution_count": 57,
   "metadata": {},
   "outputs": [
    {
     "name": "stdout",
     "output_type": "stream",
     "text": [
      "[[ -4.97046404]\n",
      " [ 12.41788084]\n",
      " [  5.01715461]\n",
      " [-14.89179719]\n",
      " [  0.52872014]]\n",
      "1.081874358974359\n"
     ]
    },
    {
     "data": {
      "text/plain": [
       "[<matplotlib.lines.Line2D at 0x7f3771c16c70>]"
      ]
     },
     "execution_count": 57,
     "metadata": {},
     "output_type": "execute_result"
    },
    {
     "data": {
      "image/png": "[encoded data removed]",
      "text/plain": [
       "<Figure size 432x288 with 1 Axes>"
      ]
     },
     "metadata": {
      "needs_background": "light"
     },
     "output_type": "display_data"
    }
   ],
   "source": [
    "MM = 5 #4 5 5 6 6 \n",
    "aa = 5 #6 4 5 5 4\n",
    "\n",
    "parameters = estimador(delta_t, y_stdp, M=MM, alpha = aa)\n",
    "print(parameters[0])\n",
    "print(parameters[1])\n",
    "\n",
    "rango = np.asarray(range(100))-50\n",
    "salida = f_detalle(rango, parameters)\n",
    "plt.plot(rango, salida)\n",
    "plt.plot(delta_t,y_stdp, 'r+')\n",
    "plt.plot(parameters[2], np.zeros((len(parameters[2]),1))+1, 'c+')\n",
    "for i in range(MM):\n",
    "    plt.plot(rango, f_detalle(rango, parameters, flag=i), 'k')\n",
    "plt.plot(rango, salida)\n",
    "#plt.plot(rango, np.zeros(rango.shape)+1,'k')\n",
    "plt.plot(parameters[2], np.zeros((len(parameters[2]),1))+1, 'c+-')"
   ]
  },
  {
   "cell_type": "markdown",
   "metadata": {},
   "source": [
    "Como se ve, Akaike produce overfitting. No nos sirve como criterio."
   ]
  },
  {
   "cell_type": "code",
   "execution_count": 17,
   "metadata": {},
   "outputs": [
    {
     "data": {
      "text/plain": [
       "array([153.23420058])"
      ]
     },
     "execution_count": 17,
     "metadata": {},
     "output_type": "execute_result"
    }
   ],
   "source": [
    "parameters[4]"
   ]
  },
  {
   "cell_type": "code",
   "execution_count": 66,
   "metadata": {},
   "outputs": [
    {
     "data": {
      "text/plain": [
       "[<matplotlib.lines.Line2D at 0x7f2256ec57f0>]"
      ]
     },
     "execution_count": 66,
     "metadata": {},
     "output_type": "execute_result"
    },
    {
     "data": {
      "image/png": "[encoded data removed]",
      "text/plain": [
       "<Figure size 432x288 with 1 Axes>"
      ]
     },
     "metadata": {
      "needs_background": "light"
     },
     "output_type": "display_data"
    }
   ],
   "source": [
    "plt.plot(rango, f_detalle(rango, parameters, flag=1), 'k')"
   ]
  },
  {
   "cell_type": "code",
   "execution_count": 56,
   "metadata": {},
   "outputs": [],
   "source": [
    "loc_vect = parameters[2]"
   ]
  },
  {
   "cell_type": "code",
   "execution_count": 67,
   "metadata": {},
   "outputs": [
    {
     "data": {
      "text/plain": [
       "array([[-32.306],\n",
       "       [-16.918],\n",
       "       [ -1.53 ],\n",
       "       [ 13.858],\n",
       "       [ 29.246]])"
      ]
     },
     "execution_count": 67,
     "metadata": {},
     "output_type": "execute_result"
    }
   ],
   "source": [
    "loc_vect"
   ]
  },
  {
   "cell_type": "code",
   "execution_count": 70,
   "metadata": {},
   "outputs": [
    {
     "data": {
      "text/plain": [
       "True"
      ]
     },
     "execution_count": 70,
     "metadata": {},
     "output_type": "execute_result"
    }
   ],
   "source": [
    "None == None"
   ]
  },
  {
   "cell_type": "code",
   "execution_count": 4,
   "metadata": {},
   "outputs": [],
   "source": [
    "def deltaw_ctx_spn(deltat,w):\n",
    "    # constantes\n",
    "    mu = 0.4\n",
    "    tau = 20.0  # ms\n",
    "    w0 = 1.0  # pA\n",
    "    lamb = 0.1\n",
    "    alpha = 5.478 # originalmente estaba en 0.11, pero no daba con una reducción de 40% a -6.3msg\n",
    "    \n",
    "    out = torch.zeros(len(deltat))\n",
    "    aux = torch.exp(-torch.abs(deltat)/tau)\n",
    "    out = lamb * (w0 ** (1 - mu)) * (w ** mu) * aux * ((deltat < 0)*1.0)\n",
    "    out = -lamb * alpha * w * aux * ((deltat > 0) * 1.0)\n",
    "    return out"
   ]
  },
  {
   "cell_type": "code",
   "execution_count": 5,
   "metadata": {},
   "outputs": [
    {
     "data": {
      "image/png": "[encoded data removed]",
      "text/plain": [
       "<Figure size 432x288 with 1 Axes>"
      ]
     },
     "metadata": {
      "needs_background": "light"
     },
     "output_type": "display_data"
    }
   ],
   "source": [
    "# defino un vector de pesos\n",
    "w = torch.ones(100) * 1\n",
    "\n",
    "# defino vector de tiempos\n",
    "extremo = 60 #mseg\n",
    "dt = (torch.tensor(range(len(w))) - len(w)/2)/(len(w/2)) * extremo\n",
    "\n",
    "out = deltaw_ctx_spn(dt,w)\n",
    "\n",
    "plt.plot(dt.numpy(), out.numpy())\n",
    "plt.show()"
   ]
  },
  {
   "cell_type": "code",
   "execution_count": 50,
   "metadata": {},
   "outputs": [
    {
     "data": {
      "text/plain": [
       "tensor([-0.0079])"
      ]
     },
     "execution_count": 50,
     "metadata": {},
     "output_type": "execute_result"
    }
   ],
   "source": [
    "out[torch.logical_and(dt<-6,dt>-7) ]\n"
   ]
  },
  {
   "cell_type": "code",
   "execution_count": 17,
   "metadata": {},
   "outputs": [
    {
     "data": {
      "text/plain": [
       "10"
      ]
     },
     "execution_count": 17,
     "metadata": {},
     "output_type": "execute_result"
    }
   ],
   "source": [
    "a=(torch.randn(10)>0)*5\n",
    "len(a)"
   ]
  },
  {
   "cell_type": "code",
   "execution_count": 15,
   "metadata": {},
   "outputs": [
    {
     "data": {
      "text/plain": [
       "tensor([2.7183])"
      ]
     },
     "execution_count": 15,
     "metadata": {},
     "output_type": "execute_result"
    }
   ],
   "source": [
    "torch.exp(torch.tensor([1.]))\n"
   ]
  },
  {
   "cell_type": "code",
   "execution_count": 29,
   "metadata": {},
   "outputs": [
    {
     "data": {
      "text/plain": [
       "tensor([8., 8., 8., 8., 8., 8., 8., 8., 8., 8.])"
      ]
     },
     "execution_count": 29,
     "metadata": {},
     "output_type": "execute_result"
    }
   ],
   "source": [
    "((torch.zeros(10)+2)**2) * (torch.zeros(10)+2)"
   ]
  },
  {
   "cell_type": "code",
   "execution_count": 60,
   "metadata": {},
   "outputs": [
    {
     "data": {
      "text/plain": [
       "tensor([0., 0., 0., 0., 0., 0., 0., 0., 0., 0.])"
      ]
     },
     "execution_count": 60,
     "metadata": {},
     "output_type": "execute_result"
    }
   ],
   "source": [
    "lamb * (w0 ** (1 - mu)) * (w ** mu)"
   ]
  }
 ],
 "metadata": {
  "kernelspec": {
   "display_name": "Python 3",
   "language": "python",
   "name": "python3"
  },
  "language_info": {
   "codemirror_mode": {
    "name": "ipython",
    "version": 3
   },
   "file_extension": ".py",
   "mimetype": "text/x-python",
   "name": "python",
   "nbconvert_exporter": "python",
   "pygments_lexer": "ipython3",
   "version": "3.8.5"
  },
  "latex_envs": {
   "LaTeX_envs_menu_present": true,
   "autoclose": false,
   "autocomplete": true,
   "bibliofile": "biblio.bib",
   "cite_by": "apalike",
   "current_citInitial": 1,
   "eqLabelWithNumbers": true,
   "eqNumInitial": 1,
   "hotkeys": {
    "equation": "Ctrl-E",
    "itemize": "Ctrl-I"
   },
   "labels_anchors": false,
   "latex_user_defs": false,
   "report_style_numbering": false,
   "user_envs_cfg": false
  },
  "varInspector": {
   "cols": {
    "lenName": 16,
    "lenType": 16,
    "lenVar": 40
   },
   "kernels_config": {
    "python": {
     "delete_cmd_postfix": "",
     "delete_cmd_prefix": "del ",
     "library": "var_list.py",
     "varRefreshCmd": "print(var_dic_list())"
    },
    "r": {
     "delete_cmd_postfix": ") ",
     "delete_cmd_prefix": "rm(",
     "library": "var_list.r",
     "varRefreshCmd": "cat(var_dic_list()) "
    }
   },
   "types_to_exclude": [
    "module",
    "function",
    "builtin_function_or_method",
    "instance",
    "_Feature"
   ],
   "window_display": false
  }
 },
 "nbformat": 4,
 "nbformat_minor": 4
}

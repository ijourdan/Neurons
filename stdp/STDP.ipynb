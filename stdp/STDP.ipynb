{
 "cells": [
  {
   "cell_type": "code",
   "execution_count": 1,
   "metadata": {},
   "outputs": [],
   "source": [
    "import torch \n",
    "import matplotlib.pyplot as plt\n",
    "%matplotlib inline\n",
    "import numpy as np\n",
    "from scipy.stats import norm\n",
    "from itertools import product"
   ]
  },
  {
   "cell_type": "markdown",
   "metadata": {},
   "source": [
    "\n",
    "## Modelo según Morrison et al 2007\n",
    "\n",
    "El modelo plantea STDP en sinapsis excitatorias. Puede llegar a aplicarse a las sinapsis entre neuronas piramidales y espinosas estriatales. \n",
    "\n",
    "El modelo es Hebbiano con las siguientes ecuaciones:\n",
    "\n",
    "$\\Delta w_+ = \\lambda w_{0} ^{1-\\mu}~w^\\mu \\exp^{-\\frac{|\\Delta t|}{\\tau}} ~~~ \\Delta t > 0 $\n",
    "\n",
    "$\\Delta w_- = - \\lambda \\alpha ~ w \\exp^{-\\frac{|\\Delta t|}{\\tau}} ~~~ \\Delta t < 0$\n",
    "\n",
    "donde $\\tau$ es la constante de tiempo, $\\lambda$ el la velocidad de aprendizaje (learning rate) , $w_0$ es un peso de referencia, que perfectamente puede ser $w_0 = 1 [pA]$ y $\\alpha$ escala el peso de LTD en el aprendizaje. $\\mu$ es una constante que modela la relación entre la EPSC y la actualización por plasticidad (Bi & Poo 1998): con LTP  $\\Delta w \\propto w$, y para LTD, $\\Delta w \\propto w^\\mu$ con un valor $\\mu = 0.4$\n",
    "\n",
    "Para calcular $\\lambda$ se consideran los parámetros de acuerdo al protocolo completo, que consta de 60 actualizaciones, donde determinan un valor inicial $w(0)=17pA$ (no confundir con $w_0$). A partir de ello, evalúan el modelo seteando $\\lambda$ tal que $w(60) = 2 w(0)$ para un $\\Delta t = 6.3ms$ (son condiciones de diseño del protocolo para más detalles ver el paper)\n",
    "$\\alpha$ lo ajustan de forma tal que les permita tener una atenuación $\\Delta w = 40 \\% $ para un $ \\Delta t = -6.3 ms$. \n",
    "\n",
    "Como resultado obtiene el siguiente juego de parámetros:\n",
    "\n",
    "- $\\mu = 0.4$\n",
    "- $\\tau = 20 [ms]$\n",
    "- $w_0 = 1 [pA]$\n",
    "- $\\lambda = 0.1$\n",
    "- $\\alpha = 0.11$\n",
    "\n",
    "\n",
    "\n",
    "    "
   ]
  },
  {
   "cell_type": "code",
   "execution_count": 2,
   "metadata": {},
   "outputs": [],
   "source": [
    "def deltaw_Morr(deltat,w):\n",
    "    # constantes\n",
    "    mu = 0.4\n",
    "    tau = 20.0  # ms\n",
    "    w0 = 1.0  # pA\n",
    "    lamb = 0.1\n",
    "    alpha = 0.11 \n",
    "    \n",
    "    out = torch.zeros(len(deltat))\n",
    "    aux = torch.exp(-torch.abs(deltat)/tau)\n",
    "    out = lamb * (w0 ** (1 - mu)) * (w ** mu) * aux * ((deltat > 0)*1.0)\n",
    "    out -= lamb * alpha * w * aux * ((deltat < 0) * 1.0)\n",
    "    return out"
   ]
  },
  {
   "cell_type": "markdown",
   "metadata": {},
   "source": [
    "Evaluamos para algún $\\Delta t$:"
   ]
  },
  {
   "cell_type": "code",
   "execution_count": 3,
   "metadata": {},
   "outputs": [
    {
     "data": {
      "text/plain": [
       "tensor([-0.0080])"
      ]
     },
     "execution_count": 3,
     "metadata": {},
     "output_type": "execute_result"
    }
   ],
   "source": [
    "deltaw_Morr(torch.tensor([-6.3]), torch.tensor([1]))"
   ]
  },
  {
   "cell_type": "markdown",
   "metadata": {},
   "source": [
    "Vamos a observar el modelo STDP, al menos como creo que lo diseñaron. \n",
    "**Tal vez estoy cometiendo algún error** porque como se verá, la salida posee mucho LTD. Por otra parte, si el parámetro empleado es $\\alpha = 0.11$ se tiene mucho LTP (modificando el método deltaw_Morr)"
   ]
  },
  {
   "cell_type": "code",
   "execution_count": 4,
   "metadata": {},
   "outputs": [
    {
     "data": {
      "image/png": "[encoded data removed]",
      "text/plain": [
       "<Figure size 432x288 with 1 Axes>"
      ]
     },
     "metadata": {
      "needs_background": "light"
     },
     "output_type": "display_data"
    }
   ],
   "source": [
    "# defino un vector de pesos\n",
    "w = torch.ones(100) * 1\n",
    "\n",
    "# defino vector de tiempos\n",
    "extremo = 60 #mseg\n",
    "dt = (torch.tensor(range(len(w))) - len(w)/2)/(len(w/2)) * extremo\n",
    "\n",
    "out = deltaw_Morr(dt,w)\n",
    "\n",
    "plt.plot(dt.numpy(), out.numpy())\n",
    "plt.grid()\n",
    "plt.show()\n",
    "\n"
   ]
  },
  {
   "cell_type": "markdown",
   "metadata": {},
   "source": [
    "# Modelo STDP correspondiente al Estriado\n",
    "\n",
    "## Sinapsis cortico estriatal\n",
    "\n",
    "Fino et all 2005 estudiaron la interacción entre neuronas del layer V de la corteza somatosensorial y las neuronas espinosas estriatales (via directa me parece, pero en este paper no importaria). En este paper no consideran un tercer factor, es decir neurotransmisores que modulan el aprendizaje, como la dopamina y acetilcolina. Determinan que estimulación con pulsos de alta frecuencia (HFS) imponen procesos LTP, principalmente por mecanismos pre-sinapticos. Por otro lado, la estimulación en baja frecuencia (LFS) produce LTD a partir de procesos postsinápticos. \n",
    "\n",
    "### Reversed STDP\n",
    "\n",
    "En otro experimento evocan un potencial de acción (AP) en la neurona estriatal, y aplican un corriente depolarizante supraumbral en la neurona cortical, se plantean dos situaciones:\n",
    "- **pre-post**: la corriente depolarizante se aplica previo al potencial de acción. Esta situación plantea la situación donde la actividad pre-sinaptica evoca un AP en la post-sinapsis.\n",
    "- **post-pre**: en este caso, la actividad post sinaptica, es decir el AP, ocurre primero. Busca simular el caso donde la actividad pre-sinaptica no está participando en la generación del AP post sináptico. \n",
    "\n",
    "La siguiente figura muestra los resultados de este experimento.\n",
    "<img src=\"img/fino_2005.png\" alt=\"drawing\" width=\"500\"/> \n",
    "\n",
    "Es interesante notar que el STPD está invertido. Es decir, la actividad **pre-post** plantea un aprendizaje **LTD**, mientras que **post-pre** plantea un aprendizaje **LTP**. \n",
    "\n",
    "Este descubrimiento fue muy interesante, por una parte porque encuentra un modelo STDP anti-Hebbiano en una estructura importante como es el estriado. Pero también plantea una estructura donde la información que no evoca un AP es relevante para la estructura. Esto puede significar que el estriado ¨busca¨ relacionar información temporal, ya que esa información presinaptica, que no activa la neurona, lo hará en un futuro, ya que se potencia mediante LTP, y todo en una ventana de $\\pm 30 mseg$.\n",
    "\n",
    "Este paper no considera terceros factores.\n",
    "\n",
    "       \n",
    "## Aproximación a un modelo de STDP para neuronas estriatales.\n",
    "\n",
    "\n",
    "#### Auxiliares:\n",
    "Función gaussiana:\n"
   ]
  },
  {
   "cell_type": "code",
   "execution_count": 5,
   "metadata": {},
   "outputs": [],
   "source": [
    "def fgauss(x,loc=0,scale=1):\n",
    "    # Son las funciones de la base del espacio del estimador.\n",
    "    # scale es equivalente a varianza\n",
    "    funcion = norm(loc=loc, scale=scale)\n",
    "    return funcion.pdf(x)"
   ]
  },
  {
   "cell_type": "code",
   "execution_count": 6,
   "metadata": {},
   "outputs": [
    {
     "data": {
      "text/plain": [
       "tensor([0.3989])"
      ]
     },
     "execution_count": 6,
     "metadata": {},
     "output_type": "execute_result"
    }
   ],
   "source": [
    "# Para la aplicación deberíamos usar esto\n",
    "from torch.distributions.normal import Normal\n",
    "m = Normal(torch.tensor([0.0]), torch.tensor([1.0]))\n",
    "m.log_prob(0).exp()"
   ]
  },
  {
   "cell_type": "markdown",
   "metadata": {},
   "source": [
    "Se va a partir de los datos medidos por Fino et al 2005 (figura superior), los cuales se transcriben en el siguiente vector: \n"
   ]
  },
  {
   "cell_type": "code",
   "execution_count": 23,
   "metadata": {},
   "outputs": [],
   "source": [
    "# Se considera la gráfica anterior (Fino et al 2005)\n",
    "\n",
    "delta_t = np.asarray([-40, -35.8, -22.96, -22.13, -19.9,-19.89, -18.96, -14.96, -12.78, -11.79,  \n",
    "                        -9.09,  -7.95, -7.01,  4.94, 12.94, 14.96, 17.04, 18.96,\n",
    "                      18.96, 20.05, 23.89, 24.99, 27.90, 30.91, 36.94])\n",
    "\n",
    "\n",
    "\n",
    "\n",
    "\n",
    "y_stdp = np.asarray([110, 88.4, 139.2, 104.61, 253.08, 98.8, 115.76, 251.15,108.85, 92.69, \n",
    "                       200.38,  118.08, 246.15, 115, 76.15, 25.38, 26.54, 56.92,\n",
    "                     76.92, 95.38, 74.84, 47.30, 74.61,  116.92, 104.6])\n",
    "\n",
    "\n",
    "y_stdp = y_stdp/100\n",
    "delta_t = delta_t.reshape(len(delta_t),1)\n",
    "y_stdp = y_stdp.reshape(len(y_stdp),1)\n"
   ]
  },
  {
   "cell_type": "markdown",
   "metadata": {},
   "source": [
    "### Dos gaussianas con media y varianzas estimadas.\n",
    " Vamos a proponer un modelo con dos gaussianas ($M = 2$), donde la media y varianza se ajustan ajustadas a las muestras para $t >0$ en un caso, y $t<0$ para la otra gaussiana.\n",
    "Desde ya, la media y la varianza está dada por la concentración de datos en el tiempo. También se propone un parámetro $\\alpha >0$ el cual reduce la varianza para $\\alpha >1$. Se probaron otras opciones, pero esta es la que más gustó, porque es más simple."
   ]
  },
  {
   "cell_type": "code",
   "execution_count": 8,
   "metadata": {},
   "outputs": [],
   "source": [
    "from scipy.stats import norm\n",
    "from itertools import product"
   ]
  },
  {
   "cell_type": "code",
   "execution_count": 24,
   "metadata": {},
   "outputs": [],
   "source": [
    "def f_aprox(x, parameters, flag=None ):\n",
    "    \"\"\"\n",
    "    Función de aproximación\n",
    "    :x: delta de tiempos expresados como pre-post\n",
    "    :parametros: ( Coeficientes, Media_y, Loc, Scale )\n",
    "    :flag: permite indicar la variacón de una sola vía.\n",
    "    \n",
    "    :return:\n",
    "    \"\"\"\n",
    "    w = parameters[0]\n",
    "    media = parameters[1]\n",
    "    loc_vect = parameters[2]\n",
    "    varianza = parameters[3]\n",
    "    out = np.zeros(x.shape)\n",
    "    if flag==None:\n",
    "        for i in range(len(w)):\n",
    "            out = w[i] * fgauss(x,loc=loc_vect[i], scale=varianza[i]) + out\n",
    "        return out + 1\n",
    "    else:\n",
    "        out = w[flag] * fgauss(x,loc=loc_vect[flag], scale=varianza[flag]) \n",
    "        return out + 1\n",
    "\n",
    "def estimador(x,y,alpha = 1):\n",
    "    \"\"\"\n",
    "    Estimación sobre una base de dos gaussianas\n",
    "    :x: muestras\n",
    "    :y: f(x)\n",
    "    :alpha: parametro que modula la varianza de las gaussianas\n",
    "    \n",
    "    :return: (w, media, mean_est, var_est)\n",
    "            w: Coeficientes\n",
    "            media: Media_y\n",
    "            mean_est: Loc\n",
    "            var_est: Scale\n",
    "    \"\"\"\n",
    "    M = 2 # la cantidad de gaussianas\n",
    "    mean_est = []  # media de las gaussianas\n",
    "    mean_est.append(np.mean(x[x <0]))\n",
    "    mean_est.append(np.mean(x[x >0]))\n",
    "    mean_est = np.asarray(mean_est)\n",
    "    \n",
    "    var_est = []  # varianza de las gaussianas\n",
    "    var_est.append(np.var(x[x <0]))\n",
    "    var_est.append(np.var(x[x >0]))\n",
    "    var_est = np.asarray(var_est)/alpha\n",
    "    \n",
    "    media = np.mean(y)\n",
    "    y = y - media\n",
    "    Q = np.zeros((len(x),M))\n",
    "    for i in range(M):\n",
    "        Q[:,i] = fgauss(x,loc=mean_est[i], scale=var_est[i])[:,0]\n",
    "        \n",
    "    Q_pinv = np.linalg.pinv(Q)\n",
    "    w = np.matmul(Q_pinv, y)\n",
    "    \n",
    "    return (w, media, mean_est, var_est)\n"
   ]
  },
  {
   "cell_type": "code",
   "execution_count": 25,
   "metadata": {},
   "outputs": [
    {
     "name": "stdout",
     "output_type": "stream",
     "text": [
      "Resultados:\n",
      "Coeficientes:  [[ 13.4913549 ]\n",
      " [-11.68366252]]\n",
      "Media_y:  1.1270840000000002\n",
      "Loc:  [-18.70923077  21.04      ]\n",
      "Scale:  [11.73353743  8.42115417]\n"
     ]
    },
    {
     "data": {
      "image/png": "[encoded data removed]",
      "text/plain": [
       "<Figure size 432x288 with 1 Axes>"
      ]
     },
     "metadata": {
      "needs_background": "light"
     },
     "output_type": "display_data"
    }
   ],
   "source": [
    "############################\n",
    "### CODIGO DE EVALUACIÓN ###\n",
    "############################\n",
    "\n",
    "# Se va a generar un MODELO\n",
    "alpha = 8\n",
    "parameters = estimador(delta_t, y_stdp, alpha=alpha)\n",
    "\n",
    "# Evaluación del MODELO\n",
    "rango = np.asarray(range(100))-50 \n",
    "salida = f_aprox(rango, parameters)\n",
    "\n",
    "#Grafico y Resultado\n",
    "plt.plot(rango, salida)\n",
    "plt.plot(delta_t,y_stdp, 'r+')\n",
    "plt.plot(parameters[2], np.zeros((len(parameters[2]),1))+1, 'c+')\n",
    "for i in range(2):\n",
    "    plt.plot(rango, f_aprox(rango, parameters, flag=i), 'k')\n",
    "plt.plot(rango, salida)\n",
    "#plt.plot(rango, np.zeros(rango.shape)+1,'k')\n",
    "plt.plot(parameters[2], np.zeros((len(parameters[2]),1))+1, 'c+-')\n",
    "plt.grid()\n",
    "\n",
    "print('Resultados:')\n",
    "print('Coeficientes: ', parameters[0])\n",
    "print('Media_y: ', parameters[1])\n",
    "print('Loc: ', parameters[2])\n",
    "print('Scale: ', parameters[3])"
   ]
  },
  {
   "cell_type": "markdown",
   "metadata": {},
   "source": [
    "### Adecuación del modelo\n",
    "Hasta aquí se tiene un modelo basado en datos, donde la amplitud se obtiene a partir de un protocolo consta de **100** estimulaciones tipo **LFS** con pulsos a 1HZ, en configuración pre-post y post-pre (`figura 6` de Fino et al 2005).\n",
    "\n",
    "<img src=\"img/fig_6_STDP_prep_postp.png\" alt=\"drawing\" width=\"500\"/> \n",
    "\n",
    "\n",
    "El modelo de plasticidad se hace sobre datos que se tienen a los 45 minutos de la estimulación. No voy a modelar esa dinámica, siendo que un cambio en la dinámica puede resetear a la anterior, por lo menos es lo que se observa en las estimulaciones **LFS** y **HFS** intercaladas (Fino et al 2005), es esperable que en la naturaleza la potenciación o depotenciación efectiva, de determinada actividad, se dé por una suerte de competencia estadística entre posiciones pre-post y post-pre, donde la resultante será LTP o LTD en una suerte de convergencia a la media de un proceso tipo Bernoullí.\n",
    "\n",
    "\n"
   ]
  },
  {
   "cell_type": "markdown",
   "metadata": {},
   "source": [
    "\n",
    "Dicho lo anterior, **se va a desarrollar un modelo donde la potenciación de una estimulación sea aquella que si se aplican 100 estimulaciones, da un resultado equivalente al del modelo in-vitro cuando se esperaron 45 minutos**. Esta aproximación va de la mano con lo planteado en Song et al 2000 para los parámetros $A_+$ y $A_-$.\n",
    "\n",
    "A partir de los datos, el modelo de potenciación define la potencia sinaptica con una ley del tipo \n",
    "\n",
    "$$ W_{n+1} = W_{n} ~  \\mathcal{f}(\\phi_M, \\Delta t)$$ \n",
    "\n",
    "con $0 \\geq \\mathcal{f} \\geq \\Delta W_{max}$ y es decir, es multiplicativo. Luego\n",
    "\n",
    "$$ \\Delta w = w_{n+1} - w_n = w_n ~ (\\mathcal{f}(\\Delta t) - 1) $$\n",
    "\n",
    "pero, como se acota arriba, este $\\Delta w$ es el resultate de  100 estimulaciones, todas a $\\Delta t$. Para una estimulación se tiene entonces:\n",
    "\n",
    "$$ \\Delta w = w_n \\frac{1}{100} \\left ( \\mathcal{f}(\\Delta t) - 1 \\right )$$\n",
    "\n",
    "siendo\n",
    "\n",
    "$$ f(\\Delta t) =  \\frac{\\alpha_1}{k_1} e^{  -\\frac{1}{2} \\frac{(\\Delta t - \\mu_{\\Delta_1})^2}{\\sigma_{\\Delta_1}^2} } + \\frac{\\alpha_2}{k_2} e^{  -\\frac{1}{2} \\frac{(\\Delta t - \\mu_{\\Delta_2})^2}{\\sigma_{\\Delta_2}^2} } -1 $$\n",
    "\n",
    "donde, $k_i$, son escalares de normalización de las gaussianas, $\\alpha_i$ son los parámetros de estimación, $\\mu_{\\Delta_i}$ y $\\sigma_{\\Delta_i}^2$ son la media muestral y la varianza muestral modificada.\n"
   ]
  },
  {
   "cell_type": "code",
   "execution_count": 26,
   "metadata": {},
   "outputs": [],
   "source": [
    "def delta_w(gain,d_t, parameters):\n",
    "    \"\"\"\n",
    "    gain: ganancia o peso sinaptico (se plantea como W en muchos casos)\n",
    "    d_t: distancia Tpost - Tpre\n",
    "    parameters: parametros del modelo:\n",
    "        parameters[0] : coeficientes de estimación del modelo\n",
    "    media = parameters[1] : ganancia media \n",
    "    loc_vect = parameters[2] : \n",
    "    varianza = parameters[3]\n",
    "    \"\"\"\n",
    "    return gain/100*(f_aprox(d_t, parameters)-1)\n"
   ]
  },
  {
   "cell_type": "markdown",
   "metadata": {},
   "source": [
    "Es decir, **lo anterior implica básicamente dividir por 100 a la actualización generada con la aproximación.**"
   ]
  },
  {
   "cell_type": "code",
   "execution_count": 27,
   "metadata": {},
   "outputs": [
    {
     "data": {
      "image/png": "[encoded data removed]",
      "text/plain": [
       "<Figure size 432x288 with 1 Axes>"
      ]
     },
     "metadata": {
      "needs_background": "light"
     },
     "output_type": "display_data"
    }
   ],
   "source": [
    "############################\n",
    "### CODIGO DE EVALUACIÓN ###\n",
    "############################\n",
    "\n",
    "pesos = np.zeros(delta_t.shape)+1\n",
    "d_w = delta_w(pesos,delta_t, parameters)\n",
    "# Pesos originales\n",
    "plt.plot(delta_t,pesos,'co')\n",
    "# Pesos modificados\n",
    "plt.plot(delta_t,pesos + d_w,'o')\n",
    "plt.grid()\n",
    "plt.show()"
   ]
  },
  {
   "cell_type": "code",
   "execution_count": 28,
   "metadata": {},
   "outputs": [
    {
     "data": {
      "image/png": "[encoded data removed]",
      "text/plain": [
       "<Figure size 432x288 with 1 Axes>"
      ]
     },
     "metadata": {
      "needs_background": "light"
     },
     "output_type": "display_data"
    }
   ],
   "source": [
    "pesos = np.zeros(delta_t.shape)+1\n",
    "for i in range(100):\n",
    "    pesos = pesos + delta_w(pesos,delta_t,parameters)\n",
    "\n",
    "\n",
    "# Pesos originales\n",
    "plt.plot(delta_t,np.zeros(delta_t.shape)+1,'co')\n",
    "# Pesos modificados\n",
    "plt.plot(delta_t,pesos + d_w,'o')    \n",
    "plt.grid()\n",
    "plt.show()\n"
   ]
  },
  {
   "cell_type": "markdown",
   "metadata": {},
   "source": [
    "## Neurotransmisores \n",
    "\n",
    "La primer aproximación no contempla el involucramiento de diferentes neurotransmisores en la plasticidad, tales como dopamina, $GABA_A$, y acetilcolina, de la cual hubieron algunas referencias. Tampoco se consideraron las diferentes interneuronas, que en si mismas conforman una topología de red que modula la actividad estriatal. \n",
    "\n",
    "Además sobre las neuronas estriatales, estas se dividen en neuronas estriatales de la vía directa, que expresan receptores dopaminergicos tipo I ($D_1$) y estriatales de la vía indirecta, que expresan receptores dopaminergicos tipo II ($D_2$)"
   ]
  },
  {
   "cell_type": "markdown",
   "metadata": {},
   "source": [
    "### Relación de la Transmisión de $GABA_A$ con STDP\n",
    "\n",
    "Como se vio previamente, las neuronas espinosas estriatales tiene la particularidad de poseer un STDP reverso. Fino et al 2010 muestran que $GABA_A$ está implicado en esa reversión.\n",
    "\n",
    "<img src=\"img/fig1_fino2010_bicuculine.png\" alt=\"drawing\" width=\"500\"/> \n",
    "\n",
    "La figura superior es parte de la *figura 1* de Fino et al 2010. Se repiten los protocolos de estimulación pre-post y post-pre de Fino et al 2005, pero en este caso se definen grupos a los que se le aplica un tratamiento con  **bicuculina**. \n",
    "La bicuculina es un antagonista de receptores $GABA_A$, y por lo tanto se inhibe la transmisión GABAérgica. Se conoce que, en las neuronas espinosas, $GABA_A$ puede afectar la backpropagación de los potenciales de acción post-sinapticos.\n",
    "\n",
    "Las neuronas espinosas poseen receptores proximales al soma con sinapsis provenientes de las FSI, y distales en el árbol dendritico, con sinapsis entre neuronas estriatales (Burke et al 2017). \n",
    "\n",
    "No se observaron efectos de la bicuculina en cuanto a la backpropagación de los AP, pero sí se observan efectos sobre STDP. De acuerdo a Fino et al 2010, la interrupción de la transmisión $GABA_A$ revierte la plasticidad, haciendo que sea **LTP para pre-post** y **LTD para post-pre**. Es decir, sin el circuito $GABA_A$ el mecanismo de STDP es equivalente al encontrado mayoritariamente: *potenciación cuando la post-sinapsis tiene actividad consecuente con la pres-sinapsis* \n",
    "\n",
    "Ahora bien, los mecanismos de LTP y LTD son los mismos, es decir, LTP es un mecanismos posts-sináptico, dependiente de los canales **NMDA,** y LTD es un mecanismo pre-sináptico, dependiente de los **CB1R** presinapticos los cuales se activan a partir de un circuito endocanabinoide dependiente de receptopres **mGluR5** y **M1R** (ver más adelante y Fino et al 2010).\n",
    "\n"
   ]
  },
  {
   "cell_type": "markdown",
   "metadata": {},
   "source": [
    "Entonces, $f_{\\neg GABA_A}(\\Delta t) \\ne - f_(\\Delta t)$ ya que eso implicaría un incremento en la potencia de LTD y un decrecimiento de LTP, y por lo tanto un cambio en los mecanismos de LTP y LTD en sí mismo. Sería equivalente a plantear que los receptores NMDA participen en el mecanismo LTD, y por lo tanto erróneo.\n",
    "\n",
    "Se aprecia más adecuado un modelo que proponga $f_{\\neg GABA_A}(\\Delta t) \\sim f(- \\Delta t)$.\n",
    "\n",
    "### Propuesta de Adaptación\n",
    "\n",
    "Una propuesta para adaptar el modelo puede ser la siguiente:\n",
    "\n",
    "$$f_1(\\Delta t) = f(\\gamma_{GABA_A} \\Delta t)$$\n",
    "\n",
    "siendo una función de la corriente $GABA$, la cuál cambia el signo de $\\Delta t$: $\\gamma_{GABA_A} \\sim sign(i_{GABA_A} - i_{ref}$, donde $i_{ref}$ es una corriente de referencia a partir de la cual hay reversión. "
   ]
  },
  {
   "cell_type": "markdown",
   "metadata": {},
   "source": [
    "## STDP en Fast Spiking Interneurons (FSI)\n",
    "\n",
    "Fino et al 2008 analiza STDP en las interneuronas FSI y colinérgicas. En el caso de las FSI, estudian STDP con un protocolo idéntico al realizado en Fino 2005, el resultado es el siguiente, donde se observa aprendizaje hebbiano (fig3-c), \n",
    "\n",
    "<img src=\"img/fig_3_fino_2008_stdp_FSI.png\" alt=\"drawing\" width=\"500\"/> \n",
    "\n",
    "Se va a seguir Morrison 2007 para modelar la plasticidad en FSI, y por lo tanto, la variación de pesos tiene la ley:\n",
    "\n",
    "$$ \\Delta w^+ = \\lambda ~  w_0 ^{1-\\mu} ~ w^\\mu ~ e^{-\\frac{|\\Delta t|}{\\tau}}$$\n",
    "$$ \\Delta w^- = - ~ \\lambda ~  w ~ \\alpha ~ e^{-\\frac{|\\Delta t|}{\\tau}}$$\n",
    "\n",
    "Como la dinámica está definida, vamos a determinar los parámetros. \n",
    "En primer lugar, $\\mu$ ajusta la incidencia de la EPSC en la variación de la potencia sináptica. Morrison se basa en resultados de BI & Poo 1998 para ajustar un valor de $\\mu$. En el caso de Fino et al 2008 no se tienen esos resultados, y  no es posible estimarlos, ya que no se tienen resultados relativos a la corriente postsinaptica inicial y su variación por plasticidad. Vamos a considerar que $\\Delta w \\propto w$ de igual manera para LTP y LTD, por lo tanto queda **$\\mu = 1$**.\n",
    "\n",
    "No se detectó STDP más allá de una ventana de $-50~ms$, esto nos permite ajustar la constante de tiempo $\\tau = 10ms$. En la siguiente gráfica se puede ver que ese valor es apropiado."
   ]
  },
  {
   "cell_type": "code",
   "execution_count": 14,
   "metadata": {},
   "outputs": [
    {
     "data": {
      "image/png": "[encoded data removed]",
      "text/plain": [
       "<Figure size 432x288 with 1 Axes>"
      ]
     },
     "metadata": {
      "needs_background": "light"
     },
     "output_type": "display_data"
    }
   ],
   "source": [
    "tau = 10\n",
    "dt = np.asarray(range(100))\n",
    "dw = np.exp(-dt/tau)\n",
    "plt.plot(dt,dw)\n",
    "plt.plot([0,tau],[1,0])\n",
    "plt.grid()"
   ]
  },
  {
   "cell_type": "markdown",
   "metadata": {},
   "source": [
    "Para obtener la velocidad $\\lambda$, se sigue en parte los planteado por Morrison et al 2007. Se va a tomar un $\\Delta t$ particular, y un $\\Delta w^+$. De acuerdo al protocolo, a partir de una condición inicial $w(0)$, se estimulan 100 veces, y al final se obtiene una variación $w(100) = \\beta ~ w(0)$. Considerando la dinámica de plasticidad propuesta,\n",
    "$$\\Delta w^+ = \\lambda w e^{-\\frac{|\\Delta t|}{\\tau}}$$\n",
    "\n",
    "se tiene entonces:\n",
    "\n",
    "$$w(1) = w(0) + \\lambda ~ w(0) ~ e^{-\\frac{|\\Delta t|}{\\tau}} = w(0)~ \\left ( 1+ \\lambda e^{-\\frac{|\\Delta t|}{\\tau}} \\right ) $$\n",
    "\n",
    "es fácil demostrar por inducción que\n",
    "\n",
    "$$w(n) =  w(0)~ \\left ( 1+ \\lambda e^{-\\frac{|\\Delta t|}{\\tau}} \\right )^n $$\n",
    "\n",
    "donde particularmente nos importa $w(100) = \\beta ~ w(0)$, de lo que resulta \n",
    "\n",
    "$$ \\lambda = \\left ( \\sqrt[100] \\beta - 1 \\right )~ e^{\\frac{|\\Delta t|}{\\tau}}$$ \n",
    "\n",
    "Fino et al 2008 miden una potenciación LTP de $74.6 \\pm 17.7 \\%$, y por lo tanto se adopta $\\beta = 1.75$ para 100 estimulaciones. Si bien no hay referencias específicas a valores de $\\Delta t$, a partir de la `figura 3-c` se propone que $\\Delta t = 9ms$. Bajo estas condiciones, resulta $\\lambda = 0.014$\n",
    "\n",
    "En cuanto a la depotenciación (LTD), se debe determinar el parámetro $\\alpha$. Siendo,\n",
    "\n",
    "$$\\Delta w^- = -~ \\lambda ~ \\alpha ~ w ~ e^{-\\frac{|\\Delta t|}{\\tau}}$$\n",
    "\n",
    "y siendo $\\gamma$ el coeficiente que determina la depotenciación desde una condición inicial $w(0)$ para 100 estimulaciones, $w(100)=\\gamma~w(0)$, siguiendo el razonamiento para LTP, se tiene que\n",
    "$$ \\alpha = \\left ( 1 - \\sqrt[100] \\gamma \\right )~ \\frac{1}{\\lambda}~e^{\\frac{|\\Delta t|}{\\tau}}$$ \n",
    "\n",
    "Determinaron que con LTD se tiene una depresión de $-63.7 \\pm 7.4 \\%$ relativo al control, $w(0)$ en este caso. Eso implica $\\gamma = 0.37$, y al igual que antes, se propone $\\Delta t = 9ms$. Con estas aproximaciones, se tiene que $\\alpha = 1.74$. \n",
    "\n",
    "#### Modelo STDP para FSI\n",
    "\n",
    "El modelo queda definido, entonces por las siguientes ecuaciones:\n",
    "\n",
    "$$ \\Delta w^+ = \\lambda ~  w ~ e^{-\\frac{|\\Delta t|}{\\tau}}$$\n",
    "$$ \\Delta w^- = - ~ \\lambda ~  w ~ \\alpha ~ e^{-\\frac{|\\Delta t|}{\\tau}}$$\n",
    "\n",
    "siendo la velocidad de potenciación $\\lambda = 0.014$, la adaptación para LTD $\\alpha = 1.74$, y $\\tau = 10ms$. "
   ]
  },
  {
   "cell_type": "code",
   "execution_count": 35,
   "metadata": {},
   "outputs": [],
   "source": [
    "def dw_fsi(delta_t):\n",
    "    lamb = 0.014\n",
    "    alpha = 1.74\n",
    "    tau = 10\n",
    "    out = np.zeros(delta_t.shape)\n",
    "    w = 1\n",
    "    \n",
    "    out += lamb * w * np.exp(-np.abs(delta_t)/tau)*(delta_t >= 0)\n",
    "    out -= lamb * alpha * w * np.exp(-np.abs(delta_t)/tau)*(delta_t < 0)\n",
    "    return out"
   ]
  },
  {
   "cell_type": "code",
   "execution_count": 36,
   "metadata": {},
   "outputs": [
    {
     "data": {
      "image/png": "[encoded data removed]",
      "text/plain": [
       "<Figure size 432x288 with 1 Axes>"
      ]
     },
     "metadata": {
      "needs_background": "light"
     },
     "output_type": "display_data"
    }
   ],
   "source": [
    "delta_w = dw_fsi(delta_t)\n",
    "plt.plot(delta_t,delta_w)\n",
    "plt.grid()"
   ]
  },
  {
   "cell_type": "markdown",
   "metadata": {},
   "source": [
    "# Anexo\n",
    "#### Aproximación con múltiples gaussianas\n",
    "Se tienen como hiperparametros a $M$ y $\\alpha$, donde $M$ es la cantidad de funciones gaussianas y $\\alpha$ modula el desvío estándar de las gaussianas de manera inversamente proporcional.. "
   ]
  },
  {
   "cell_type": "code",
   "execution_count": 4,
   "metadata": {},
   "outputs": [],
   "source": [
    "def f_detalle_a(x, parameters, flag=None ):\n",
    "    w = parameters[0]\n",
    "    media = parameters[1]\n",
    "    loc_vect = parameters[2]\n",
    "    sigma = parameters[3]\n",
    "    out = np.zeros(x.shape)\n",
    "    if flag==None:\n",
    "        for i in range(len(w)):\n",
    "            out = w[i] * fgauss(x,loc=loc_vect[i], scale=sigma ** 2) + out\n",
    "        return out + 1\n",
    "    else:\n",
    "        out = w[flag] * fgauss(x,loc=loc_vect[flag][0], scale=sigma ** 2) \n",
    "        return out + 1\n",
    "\n",
    "def estimador_a(x,y,M, alpha):\n",
    "    max_t = max(x)\n",
    "    min_t = min(x)\n",
    "    sigma = (max_t - min_t)/M/alpha # SD de las gaussianas => solapa con el 31.8% del área a las otras.\n",
    "    loc_vect = np.asarray([i * (max_t-min_t)/M + (min_t + (max_t-min_t)/2/M) for i in range(M)])\n",
    "    media = np.mean(y)\n",
    "    y = y - media\n",
    "    Q = np.zeros((len(x),M))\n",
    "    Q = np.zeros((len(x),M))\n",
    "    for i in range(M):\n",
    "        Q[:,i] = fgauss(x,loc=loc_vect[i], scale=sigma ** 2)[:,0]\n",
    "        \n",
    "    Q_pinv = np.linalg.pinv(Q)\n",
    "    w = np.matmul(Q_pinv, y)\n",
    "    # Calculo de metrica de AKAIKE\n",
    "    y_est = f_detalle_a(x, (w, media, loc_vect, sigma))\n",
    "    aic = 2*M + len(x)* np.log(2*np.pi*sigma**2)+1/(sigma ** 2) * (np.linalg.norm(y-y_est)**2)\n",
    "    return (w, media, loc_vect, sigma, aic)\n",
    "\n"
   ]
  },
  {
   "cell_type": "markdown",
   "metadata": {},
   "source": [
    "Si probamos aplicando el criterio de Akaike, el resultado va a ser overfitting. Busca aproximar a todos los puntos. No nos sirve"
   ]
  },
  {
   "cell_type": "code",
   "execution_count": 5,
   "metadata": {},
   "outputs": [
    {
     "data": {
      "text/plain": [
       "array([[ 7.       ,  8.       , 99.2806354]])"
      ]
     },
     "execution_count": 5,
     "metadata": {},
     "output_type": "execute_result"
    }
   ],
   "source": [
    "MM_range = range(3,11)\n",
    "aa_range = range(3,9)\n",
    "resultado = []\n",
    "for k in product(MM_range,aa_range):\n",
    "    aux = [k[0], k[1], estimador_a(delta_t, y_stdp, M=k[0], alpha = k[1])[4][0] ]\n",
    "    resultado.append(aux)\n",
    "resultado = np.asarray(resultado)\n",
    "# minimo akaike\n",
    "resultado[resultado[:,2]==min(resultado[:,2]),:]"
   ]
  },
  {
   "cell_type": "markdown",
   "metadata": {},
   "source": [
    "La siguiente solución, con $M = 2$ y $\\alpha = 13$ no está tan mal."
   ]
  },
  {
   "cell_type": "code",
   "execution_count": 6,
   "metadata": {
    "scrolled": true
   },
   "outputs": [
    {
     "name": "stdout",
     "output_type": "stream",
     "text": [
      "[[  9.2253352 ]\n",
      " [-12.04126546]]\n",
      "1.1176703703703703\n"
     ]
    },
    {
     "data": {
      "text/plain": [
       "[<matplotlib.lines.Line2D at 0x12f290820>]"
      ]
     },
     "execution_count": 6,
     "metadata": {},
     "output_type": "execute_result"
    },
    {
     "data": {
      "image/png": "[encoded data removed]",
      "text/plain": [
       "<Figure size 432x288 with 1 Axes>"
      ]
     },
     "metadata": {
      "needs_background": "light"
     },
     "output_type": "display_data"
    }
   ],
   "source": [
    "MM = 2 #4 5 5 6 6 \n",
    "aa = 13 #6 4 5 5 4\n",
    "\n",
    "parameters = estimador_a(delta_t, y_stdp, M=MM, alpha = aa)\n",
    "print(parameters[0])\n",
    "print(parameters[1])\n",
    "\n",
    "rango = np.asarray(range(100))-50\n",
    "salida = f_detalle_a(rango, parameters)\n",
    "plt.plot(rango, salida)\n",
    "plt.plot(delta_t,y_stdp, 'r+')\n",
    "plt.plot(parameters[2], np.zeros((len(parameters[2]),1))+1, 'c+')\n",
    "for i in range(MM):\n",
    "    plt.plot(rango, f_detalle_a(rango, parameters, flag=i), 'k')\n",
    "plt.plot(rango, salida)\n",
    "#plt.plot(rango, np.zeros(rango.shape)+1,'k')\n",
    "plt.plot(parameters[2], np.zeros((len(parameters[2]),1))+1, 'c+-')"
   ]
  },
  {
   "cell_type": "markdown",
   "metadata": {},
   "source": [
    "Como se ve, Akaike produce overfitting. No nos sirve como criterio. Y por otra parte, cómo se puede ver en el gráfico, no está mal esta combinación de dos gaussianas. "
   ]
  },
  {
   "cell_type": "code",
   "execution_count": 60,
   "metadata": {},
   "outputs": [
    {
     "data": {
      "text/plain": [
       "tensor([0., 0., 0., 0., 0., 0., 0., 0., 0., 0.])"
      ]
     },
     "execution_count": 60,
     "metadata": {},
     "output_type": "execute_result"
    }
   ],
   "source": [
    "lamb * (w0 ** (1 - mu)) * (w ** mu)"
   ]
  },
  {
   "cell_type": "markdown",
   "metadata": {},
   "source": [
    "# BORRADOR DE COSAS A REUTILIZAR"
   ]
  },
  {
   "cell_type": "markdown",
   "metadata": {},
   "source": [
    "## Sobre procesos LTP y LTD marcados por frecuencia de disparo. Hay que reescribir todo esto.\n",
    "\n",
    "**justificando porque no vamos a emplear LTP y LTD por frecuencia, y sólo STDP**\n",
    "\n",
    "Hasta aquí se tiene un modelo, el cual hay que ajustar, ya que la amplitud se obtiene a partir de los datos de la `figura 6` de Fino et al 2005, donde el protocolo consta de **100** estimulaciones tipo **LFS** con pulsos a 1HZ, en estado pre-post y post-pre. \n",
    "Comparando la `figura 4` de Fino el al 2005, donde muestran resultados del protocolo **LFS** para inducir LTP:\n",
    "<img src=\"img/fig_4_LTD.png\" alt=\"drawing\" width=\"500\"/> \n",
    "\n",
    "se puede observar que ese protocolo tiene la misma dinámica para, depotenciación y potenciación, salvando la dirección, que el protocolo empleado en STDP, según se puede apreciar en la `figura 6` del mismo trabajo  \n",
    "\n",
    "<img src=\"img/fig_6_STDP_prep_postp.png\" alt=\"drawing\" width=\"500\"/> \n",
    "\n",
    "Aparentemente la dinámica depende de la frecuencia, y es un proceso que continúa aún después de finalizar la estimulación. Pero por otra parte, Fino et al 2005 muestra que la expresión de un mecanismo (LTP o LTD) cancela la expresión del mecanismo de potenciación previo. Ver figura 5 de Fino et al 2005.\n",
    "\n",
    "El modelo de plasticidad se hace sobre datos que se tienen a los 45 minutos de la estimulación. No voy a modelar esa dinámica, siendo que un cambio en la dinámica puede resetear a la anterior, es esperable que en la naturaleza la potenciación o depotenciación efectiva de determinada actividad se dé por una suerte de competencia estadística entre posiciones pre-post y post-pre, donde la resultante será LTP o LTD en una suerte de convergencia a la media de un proceso tipo Bernoullí.\n",
    "\n",
    "##### Sobre la relación con la frecuencia\n",
    "En cuanto a la dependencia con la frecuencia, se pueden ver los resultados de HFS en los trabajos de Fino 2005 y 2010, donde la frecuencia de estimulación es 100Hz y el potenciamiento es inmediato. De todas maneras, 100Hz es muy alta frecuencia para STDP, con $\\Delta t \\approx 0 mseg$ y en el caso de las neuronas estriatales, sin mayores cambios en la potencia sinaptica. Otra cuestión con la HFS relativa a STDP es que estadísticamente puede significar una estimulación pre-post o post-pre, ya que el ruido en la posición temporal puede cambiarla de categoría. Esto hace que se rompa la dinámica de potenciación continuamente. \n"
   ]
  },
  {
   "cell_type": "code",
   "execution_count": null,
   "metadata": {},
   "outputs": [],
   "source": []
  }
 ],
 "metadata": {
  "kernelspec": {
   "display_name": "Python 3",
   "language": "python",
   "name": "python3"
  },
  "language_info": {
   "codemirror_mode": {
    "name": "ipython",
    "version": 3
   },
   "file_extension": ".py",
   "mimetype": "text/x-python",
   "name": "python",
   "nbconvert_exporter": "python",
   "pygments_lexer": "ipython3",
   "version": "3.8.5"
  },
  "latex_envs": {
   "LaTeX_envs_menu_present": true,
   "autoclose": false,
   "autocomplete": true,
   "bibliofile": "biblio.bib",
   "cite_by": "apalike",
   "current_citInitial": 1,
   "eqLabelWithNumbers": true,
   "eqNumInitial": 1,
   "hotkeys": {
    "equation": "Ctrl-E",
    "itemize": "Ctrl-I"
   },
   "labels_anchors": false,
   "latex_user_defs": false,
   "report_style_numbering": false,
   "user_envs_cfg": false
  },
  "varInspector": {
   "cols": {
    "lenName": 16,
    "lenType": 16,
    "lenVar": 40
   },
   "kernels_config": {
    "python": {
     "delete_cmd_postfix": "",
     "delete_cmd_prefix": "del ",
     "library": "var_list.py",
     "varRefreshCmd": "print(var_dic_list())"
    },
    "r": {
     "delete_cmd_postfix": ") ",
     "delete_cmd_prefix": "rm(",
     "library": "var_list.r",
     "varRefreshCmd": "cat(var_dic_list()) "
    }
   },
   "types_to_exclude": [
    "module",
    "function",
    "builtin_function_or_method",
    "instance",
    "_Feature"
   ],
   "window_display": false
  }
 },
 "nbformat": 4,
 "nbformat_minor": 4
}

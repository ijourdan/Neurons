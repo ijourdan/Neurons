{
 "cells": [
  {
   "cell_type": "code",
   "execution_count": 1,
   "metadata": {},
   "outputs": [],
   "source": [
    "import torch \n",
    "import matplotlib.pyplot as plt\n",
    "%matplotlib inline"
   ]
  },
  {
   "cell_type": "markdown",
   "metadata": {},
   "source": [
    "\n",
    "## Modelo según Morrison et al 2007\n",
    "\n",
    "El modelo plantea STDP en sinapsis excitatorias. Puede llegar a aplicarse a las sinapsis entre neuronas piramidales y espinosas estriatales. \n",
    "\n",
    "El modelo es Hebbiano con las siguientes ecuaciones:\n",
    "\n",
    "$\\Delta w_+ = \\lambda_{60} w_{0} ^{1-\\mu}~w^\\mu \\exp^{-\\frac{|\\Delta t|}{\\tau}} ~~~ \\Delta t > 0 $\n",
    "\n",
    "$\\Delta w_- = - \\lambda_{60} \\alpha ~ w \\exp^{-\\frac{|\\Delta t|}{\\tau}} ~~~ \\Delta t < 0$\n",
    "\n",
    "donde $\\tau$ es la constante de tiempo, $\\lambda_{60}$ el la velocidad de aprendizaje (learning rate) sobre todo el protocolo, $w_0$ es un peso de referencia, que perfectamente puede ser $w_0 = 1 [pA]$ y $\\alpha$ escala el peso de LTD en el aprendizaje. $\\mu$ es una constante de la proporcionalidad $\\Delta w \\propto w^\\mu$ y tiene un valor $\\mu = 0.4$\n",
    "\n",
    "Hice un modificación a $\\alpha$ para obtener una atenuación $\\Delta w = 40 \\% $ para un $ \\Delta t = -6.3 ms$. `Nota: esto me parece que está mal y debería revisarlo` \n",
    "\n",
    "El paper plantea $\\alpha = 0.11$, yo lo puse en $\\alpha = 5.478$.\n"
   ]
  },
  {
   "cell_type": "code",
   "execution_count": 6,
   "metadata": {},
   "outputs": [],
   "source": [
    "def deltaw_Morr(deltat,w):\n",
    "    # constantes\n",
    "    mu = 0.4\n",
    "    tau = 20.0  # ms\n",
    "    w0 = 1.0  # pA\n",
    "    lamb = 0.1\n",
    "    alpha = 5.478 # originalmente estaba en 0.11, pero no daba con una reducción de 40% a -6.3msg\n",
    "    \n",
    "    out = torch.zeros(len(deltat))\n",
    "    aux = torch.exp(-torch.abs(deltat)/tau)\n",
    "    out = lamb * (w0 ** (1 - mu)) * (w ** mu) * aux * ((deltat > 0)*1.0)\n",
    "    out -= lamb * alpha * w * aux * ((deltat < 0) * 1.0)\n",
    "    return out\n",
    "    "
   ]
  },
  {
   "cell_type": "code",
   "execution_count": 5,
   "metadata": {},
   "outputs": [
    {
     "data": {
      "text/plain": [
       "tensor([-0.3998])"
      ]
     },
     "execution_count": 5,
     "metadata": {},
     "output_type": "execute_result"
    }
   ],
   "source": [
    "deltaw(torch.tensor([-6.3]), torch.tensor([1]))"
   ]
  },
  {
   "cell_type": "code",
   "execution_count": 7,
   "metadata": {},
   "outputs": [
    {
     "data": {
      "image/png": "[encoded data removed]",
      "text/plain": [
       "<Figure size 432x288 with 1 Axes>"
      ]
     },
     "metadata": {
      "needs_background": "light"
     },
     "output_type": "display_data"
    }
   ],
   "source": [
    "# defino un vector de pesos\n",
    "w = torch.ones(100) * 1\n",
    "\n",
    "# defino vector de tiempos\n",
    "extremo = 60 #mseg\n",
    "dt = (torch.tensor(range(len(w))) - len(w)/2)/(len(w/2)) * extremo\n",
    "\n",
    "out = deltaw_Morr(dt,w)\n",
    "\n",
    "plt.plot(dt.numpy(), out.numpy())\n",
    "plt.show()\n"
   ]
  },
  {
   "cell_type": "markdown",
   "metadata": {},
   "source": [
    "# Modelo STDP correspondiente al Estriado\n",
    "\n",
    "## Sinapsis cortico estriatal\n",
    "\n",
    "Fino et all 2005 estudiaron la interacción entre neuronas del layer V de la corteza somatosensorial y las neuronas espinosas estriatales (via directa me parece, pero en este paper no importaria). En este paper no consideran un tercer factor, es decir neurotransmisores que modulan el aprendizaje, como la dopamina y acetilcolina. Determinan que estimulación con pulsos de alta frecuencia (HFS) imponen procesos LTP, principalmente por mecanismos pre-sinapticos. Por otro lado, la estimulación en baja frecuencia (LFS) produce LTD a partir de procesos postsinápticos. \n",
    "\n",
    "### Reversed STDP\n",
    "\n",
    "En otro experimento evocan un potencial de acción (AP) en la neurona estriatal, y aplican un corriente depolarizante supraumbral en la neurona cortical, se plantean dos situaciones:\n",
    "- **pre-post**: la corriente depolarizante se aplica previo al potencial de acción. Esta situación plantea la situación donde la actividad pre-sinaptica evoca un AP en la post-sinapsis.\n",
    "- **post-pre**: en este caso, la actividad post sinaptica, es decir el AP, ocurre primero. Busca simular el caso donde la actividad pre-sinaptica no está participando en la generación del AP post sináptico. \n",
    "\n",
    "La siguiente figura muestra los resultados de este experimento.\n",
    "<img src=\"img/fino_2005.png\" alt=\"drawing\" width=\"500\"/> \n",
    "\n",
    "Es interesante notar que el STPD está invertido. Es decir, la actividad **pre-post** plantea un aprendizaje **LTD**, mientras que **post-pre** plantea un aprendizaje **LTP**. \n",
    "\n",
    "Este descubrimiento fue muy interesante, por una parte porque encuentra un modelo STDP anti-Hebbiano en una estructura importante como es el estriado. Pero también plantea una estructura donde la información que no evoca un AP es relevante para la estructura. Esto puede significar que el estriado ¨busca¨ relacionar información temporal, ya que esa información presinaptica, que no activa la neurona, lo hará en un futuro, ya que se potencia mediante LTP, y todo en una ventana de $\\pm 30 mseg$.\n",
    "\n",
    "Este paper no considera terceros factores.\n",
    "\n"
   ]
  },
  {
   "cell_type": "code",
   "execution_count": 4,
   "metadata": {},
   "outputs": [],
   "source": [
    "def deltaw_ctx_spn(deltat,w):\n",
    "    # constantes\n",
    "    mu = 0.4\n",
    "    tau = 20.0  # ms\n",
    "    w0 = 1.0  # pA\n",
    "    lamb = 0.1\n",
    "    alpha = 5.478 # originalmente estaba en 0.11, pero no daba con una reducción de 40% a -6.3msg\n",
    "    \n",
    "    out = torch.zeros(len(deltat))\n",
    "    aux = torch.exp(-torch.abs(deltat)/tau)\n",
    "    out = lamb * (w0 ** (1 - mu)) * (w ** mu) * aux * ((deltat < 0)*1.0)\n",
    "    out = -lamb * alpha * w * aux * ((deltat > 0) * 1.0)\n",
    "    return out"
   ]
  },
  {
   "cell_type": "code",
   "execution_count": 5,
   "metadata": {},
   "outputs": [
    {
     "data": {
      "image/png": "[encoded data removed]",
      "text/plain": [
       "<Figure size 432x288 with 1 Axes>"
      ]
     },
     "metadata": {
      "needs_background": "light"
     },
     "output_type": "display_data"
    }
   ],
   "source": [
    "# defino un vector de pesos\n",
    "w = torch.ones(100) * 1\n",
    "\n",
    "# defino vector de tiempos\n",
    "extremo = 60 #mseg\n",
    "dt = (torch.tensor(range(len(w))) - len(w)/2)/(len(w/2)) * extremo\n",
    "\n",
    "out = deltaw_ctx_spn(dt,w)\n",
    "\n",
    "plt.plot(dt.numpy(), out.numpy())\n",
    "plt.show()"
   ]
  },
  {
   "cell_type": "code",
   "execution_count": 50,
   "metadata": {},
   "outputs": [
    {
     "data": {
      "text/plain": [
       "tensor([-0.0079])"
      ]
     },
     "execution_count": 50,
     "metadata": {},
     "output_type": "execute_result"
    }
   ],
   "source": [
    "out[torch.logical_and(dt<-6,dt>-7) ]\n"
   ]
  },
  {
   "cell_type": "code",
   "execution_count": 17,
   "metadata": {},
   "outputs": [
    {
     "data": {
      "text/plain": [
       "10"
      ]
     },
     "execution_count": 17,
     "metadata": {},
     "output_type": "execute_result"
    }
   ],
   "source": [
    "a=(torch.randn(10)>0)*5\n",
    "len(a)"
   ]
  },
  {
   "cell_type": "code",
   "execution_count": 15,
   "metadata": {},
   "outputs": [
    {
     "data": {
      "text/plain": [
       "tensor([2.7183])"
      ]
     },
     "execution_count": 15,
     "metadata": {},
     "output_type": "execute_result"
    }
   ],
   "source": [
    "torch.exp(torch.tensor([1.]))\n"
   ]
  },
  {
   "cell_type": "code",
   "execution_count": 29,
   "metadata": {},
   "outputs": [
    {
     "data": {
      "text/plain": [
       "tensor([8., 8., 8., 8., 8., 8., 8., 8., 8., 8.])"
      ]
     },
     "execution_count": 29,
     "metadata": {},
     "output_type": "execute_result"
    }
   ],
   "source": [
    "((torch.zeros(10)+2)**2) * (torch.zeros(10)+2)"
   ]
  },
  {
   "cell_type": "code",
   "execution_count": 60,
   "metadata": {},
   "outputs": [
    {
     "data": {
      "text/plain": [
       "tensor([0., 0., 0., 0., 0., 0., 0., 0., 0., 0.])"
      ]
     },
     "execution_count": 60,
     "metadata": {},
     "output_type": "execute_result"
    }
   ],
   "source": [
    "lamb * (w0 ** (1 - mu)) * (w ** mu)"
   ]
  }
 ],
 "metadata": {
  "kernelspec": {
   "display_name": "Python 3",
   "language": "python",
   "name": "python3"
  },
  "language_info": {
   "codemirror_mode": {
    "name": "ipython",
    "version": 3
   },
   "file_extension": ".py",
   "mimetype": "text/x-python",
   "name": "python",
   "nbconvert_exporter": "python",
   "pygments_lexer": "ipython3",
   "version": "3.8.5"
  },
  "latex_envs": {
   "LaTeX_envs_menu_present": true,
   "autoclose": false,
   "autocomplete": true,
   "bibliofile": "biblio.bib",
   "cite_by": "apalike",
   "current_citInitial": 1,
   "eqLabelWithNumbers": true,
   "eqNumInitial": 1,
   "hotkeys": {
    "equation": "Ctrl-E",
    "itemize": "Ctrl-I"
   },
   "labels_anchors": false,
   "latex_user_defs": false,
   "report_style_numbering": false,
   "user_envs_cfg": false
  },
  "varInspector": {
   "cols": {
    "lenName": 16,
    "lenType": 16,
    "lenVar": 40
   },
   "kernels_config": {
    "python": {
     "delete_cmd_postfix": "",
     "delete_cmd_prefix": "del ",
     "library": "var_list.py",
     "varRefreshCmd": "print(var_dic_list())"
    },
    "r": {
     "delete_cmd_postfix": ") ",
     "delete_cmd_prefix": "rm(",
     "library": "var_list.r",
     "varRefreshCmd": "cat(var_dic_list()) "
    }
   },
   "types_to_exclude": [
    "module",
    "function",
    "builtin_function_or_method",
    "instance",
    "_Feature"
   ],
   "window_display": false
  }
 },
 "nbformat": 4,
 "nbformat_minor": 4
}
